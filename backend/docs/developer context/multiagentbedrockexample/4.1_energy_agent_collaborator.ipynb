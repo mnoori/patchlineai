{
 "cells": [
  {
   "cell_type": "markdown",
   "id": "fb8d63a2-913e-498a-a01a-5e66a39bf3e7",
   "metadata": {
    "pycharm": {
     "name": "#%% md\n"
    }
   },
   "source": [
    "# Lab 4. Energy Agent Collaborator"
   ]
  },
  {
   "cell_type": "markdown",
   "id": "63678eaa-8830-4cbe-94af-5ebd8b0e03e0",
   "metadata": {
    "pycharm": {
     "name": "#%% md\n"
    }
   },
   "source": [
    "## Introduction\n",
    "\n",
    "In this notebook we show you how to create multi-agent collaborator feature on Amazon Bedrock.\n",
    "\n",
    "[Multi-agent Collaboration](https://docs.aws.amazon.com/bedrock/latest/userguide/agents-multi-agents-collaboration.html) is a Amazon Bedrock Agents native capability that enables a hierarchical collaboration between agents. You can now enable agent collaboration and associate secondary agents to a supervisor one. These secondary agents can be any existing agent within the same account, including agents that have collaboration themselves. This composable pattern allows you to build a chain of agents, as shown in the figure below.\n",
    "\n",
    "![collaboration_hierarch](img/multi-agent_flow.png)\n",
    "\n",
    "In this lab, we will create a supervisor agent that interacts with the subagents created in the previous lab.\n",
    "\n",
    "The following represents the complete architecture of multi-agent collaborator.\n",
    "\n",
    "![Architecture](img/energy_manager_agent.png)"
   ]
  },
  {
   "cell_type": "markdown",
   "id": "7c1786d6",
   "metadata": {
    "pycharm": {
     "name": "#%% md\n"
    }
   },
   "source": [
    "This Lab will is divided into two notebooks:\n",
    "\n",
    "- [4.1_energy_agent_collaborator.ipynb](4.1_energy_agent_collaborator.ipynb): Which contains Agent Setup\n",
    "- [4.2_energy_agent_invocation.ipynb](4.2_energy_agent_invocation.ipynb): Which contains Agent Invocation"
   ]
  },
  {
   "cell_type": "markdown",
   "id": "b3ba49fa-3293-4ea6-8dee-fb9f410c6481",
   "metadata": {
    "pycharm": {
     "name": "#%% md\n"
    }
   },
   "source": [
    "## Setup\n",
    "\n",
    "Make sure that your boto3 version is the latest one.\n",
    "\n",
    "If not, return no [notebook 1](../1-energy-forecast/1_forecasting_agent.ipynb) and run Setup block again."
   ]
  },
  {
   "cell_type": "code",
   "execution_count": null,
   "id": "1895b3fc",
   "metadata": {
    "pycharm": {
     "name": "#%%\n"
    }
   },
   "outputs": [],
   "source": [
    "!pip freeze | grep boto3"
   ]
  },
  {
   "cell_type": "markdown",
   "id": "93680b4e",
   "metadata": {},
   "source": [
    "Get your workshop ID / resource suffix. If not found, return to [notebook 1](../1-energy-forecast/1_forecasting_agent.ipynb) and run the Setup block again."
   ]
  },
  {
   "cell_type": "code",
   "execution_count": null,
   "id": "6e82d0a4",
   "metadata": {},
   "outputs": [],
   "source": [
    "import os\n",
    "\n",
    "def get_workshop_id():\n",
    "    workshop_id_file = '../.workshop_id'\n",
    "    if os.path.exists(workshop_id_file):\n",
    "        with open(workshop_id_file, 'r') as f:\n",
    "            return f.read().strip()\n",
    "    else:\n",
    "        return None\n",
    "    \n",
    "workshop_id = get_workshop_id()\n",
    "resource_suffix = f\"{workshop_id}\"\n",
    "\n",
    "if workshop_id is None:\n",
    "    print(\"No workshop ID found. Please run the Setup script in notebook 1.\")\n",
    "else:\n",
    "    print(\"Your resource suffix is\", resource_suffix)"
   ]
  },
  {
   "cell_type": "markdown",
   "id": "ccf37dd5-bfaf-4563-a6ad-f9d7637c6e43",
   "metadata": {
    "pycharm": {
     "name": "#%% md\n"
    }
   },
   "source": [
    "### Creating Agent\n",
    "\n",
    "On this section we're going to declare global variables that will be act as helpers during entire notebook and you will start to create your agent."
   ]
  },
  {
   "cell_type": "code",
   "execution_count": null,
   "id": "277a742a-5f17-4dfc-ac36-1b70ce8f4f7d",
   "metadata": {
    "pycharm": {
     "name": "#%%\n"
    }
   },
   "outputs": [],
   "source": [
    "import boto3\n",
    "\n",
    "sts_client = boto3.client('sts')\n",
    "session = boto3.session.Session()\n",
    "\n",
    "account_id = sts_client.get_caller_identity()[\"Account\"]\n",
    "region = session.region_name\n",
    "\n",
    "agent_foundation_model = [\n",
    "    'anthropic.claude-3-5-sonnet-20240620-v1:0',\n",
    "    'anthropic.claude-3-sonnet-20240229-v1:0',\n",
    "    'anthropic.claude-3-haiku-20240307-v1:0'\n",
    "]"
   ]
  },
  {
   "cell_type": "code",
   "execution_count": null,
   "id": "a27cc6c8-4faa-4adc-90c8-7ace112877e1",
   "metadata": {
    "pycharm": {
     "name": "#%%\n"
    }
   },
   "outputs": [],
   "source": [
    "energy_agent_name = f\"energy-agent-{resource_suffix}\"\n",
    "\n",
    "energy_agent_role_name = f'AmazonBedrockExecutionRoleForAgents_{energy_agent_name}'"
   ]
  },
  {
   "cell_type": "markdown",
   "id": "137601c6",
   "metadata": {
    "pycharm": {
     "name": "#%% md\n"
    }
   },
   "source": [
    "### Importing helper functions\n",
    "\n",
    "On following section, we're adding `bedrock_agent_helper.py` on Python path, so the files can be recognized and their functionalities can be invoked.\n",
    "\n",
    "Now, you're going to import from helper classes `bedrock_agent_helper.py`.\n",
    " \n",
    "Those files contain helper classes totally focused on make labs experience smoothly. \n",
    "\n",
    "All interactions with Bedrock will be handled by these classes.\n",
    "\n",
    "Following are methods that you're going to invoke on this lab:\n",
    "\n",
    "On `agents.py`:\n",
    "\n",
    "- `create_agent`: Create a new agent and respective IAM roles\n",
    "- `associate_agents`: Associate sub-agents with multi-agent collaborator"
   ]
  },
  {
   "cell_type": "code",
   "execution_count": null,
   "id": "bcad12b0",
   "metadata": {
    "pycharm": {
     "name": "#%%\n"
    }
   },
   "outputs": [],
   "source": [
    "import sys\n",
    "\n",
    "sys.path.insert(0, \".\")\n",
    "sys.path.insert(1, \"..\")\n",
    "\n",
    "from utils.bedrock_agent_helper import (\n",
    "    AgentsForAmazonBedrock\n",
    ")\n",
    "agents = AgentsForAmazonBedrock()"
   ]
  },
  {
   "cell_type": "markdown",
   "id": "7120adde",
   "metadata": {
    "pycharm": {
     "name": "#%% md\n"
    }
   },
   "source": [
    "Create the energy agent"
   ]
  },
  {
   "cell_type": "code",
   "execution_count": null,
   "id": "e1e168c8-180f-4977-96dd-d8006436208b",
   "metadata": {
    "pycharm": {
     "name": "#%%\n"
    }
   },
   "outputs": [],
   "source": [
    "energy_agent = agents.create_agent(\n",
    "    energy_agent_name,\n",
    "    \"\"\"\n",
    "        You are a energy helper bot. \n",
    "        You can help customers with operations related with their energy, like consumption, forecast, peak usage, etc. \n",
    "    \"\"\",\n",
    "    \"\"\"\n",
    "        You are a energy helper bot.\n",
    "        You can retrieve energy consumption and forecast for a specific users and help them to be compliant with energy rules.\n",
    "        You can also retrieve solar panel information and solar panel ticket for a specific users and help them to be compliant with energy rules.\n",
    "        You can also get current information about peaks and can redistribute load.\n",
    "        Resist the temptation to ask the user for input. Only do so after you have exhausted available actions. \n",
    "        Never ask the user for information that you already can retrieve yourself through available actions. \n",
    "    \"\"\",\n",
    "    agent_foundation_model,\n",
    "    agent_collaboration='SUPERVISOR_ROUTER'\n",
    ")\n",
    "\n",
    "energy_agent"
   ]
  },
  {
   "cell_type": "markdown",
   "id": "14e8d1a2",
   "metadata": {
    "pycharm": {
     "name": "#%% md\n"
    }
   },
   "source": [
    "Store environment variables to be used on next notebooks."
   ]
  },
  {
   "cell_type": "code",
   "execution_count": null,
   "id": "2220a8a0",
   "metadata": {
    "pycharm": {
     "name": "#%%\n"
    }
   },
   "outputs": [],
   "source": [
    "energy_agent_id = energy_agent[0]\n",
    "%store energy_agent_id\n",
    "%store energy_agent_name"
   ]
  },
  {
   "cell_type": "markdown",
   "id": "24226dfa-a3ce-4ba3-bcff-da63e99af5c0",
   "metadata": {
    "pycharm": {
     "name": "#%% md\n"
    }
   },
   "source": [
    "### Associate Collaborators\n",
    "\n",
    "On this section, we're going to recover alias_id from previous agents (sub-agents) to add all of them inside energy one (which is multi-agent collaborator)."
   ]
  },
  {
   "cell_type": "code",
   "execution_count": null,
   "id": "e26c8d0f",
   "metadata": {
    "pycharm": {
     "name": "#%%\n"
    }
   },
   "outputs": [],
   "source": [
    "%store -r\n",
    "forecast_agent_alias_arn, solar_agent_alias_arn, peak_agent_alias_arn"
   ]
  },
  {
   "cell_type": "code",
   "execution_count": null,
   "id": "9e82bb90",
   "metadata": {
    "pycharm": {
     "name": "#%%\n"
    }
   },
   "outputs": [],
   "source": [
    "# If store fails, add Alias Arn here\n",
    "#forecast_agent_alias_arn = ''\n",
    "#compliance_agent_alias_arn = ''\n",
    "#consumption_agent_alias_id = ''"
   ]
  },
  {
   "cell_type": "code",
   "execution_count": null,
   "id": "a8368b8e",
   "metadata": {
    "pycharm": {
     "name": "#%%\n"
    }
   },
   "outputs": [],
   "source": [
    "sub_agents_list = [\n",
    "    {\n",
    "        'sub_agent_alias_arn': forecast_agent_alias_arn,\n",
    "        'sub_agent_instruction': \"\"\"Delegate energy consumption analysis and forecasting tasks to the Forecasting Agent, ensuring adherence to its specific protocols and capabilities.\"\"\",\n",
    "        'sub_agent_association_name': 'ForecastCoordinationAgent',\n",
    "        'relay_conversation_history': 'TO_COLLABORATOR'\n",
    "    },\n",
    "    {\n",
    "        'sub_agent_alias_arn': solar_agent_alias_arn,\n",
    "        'sub_agent_instruction': \"\"\"Assign solar panel-related inquiries and issues to the Solar Panel Agent, respecting its scope and support ticket protocol.\"\"\",\n",
    "        'sub_agent_association_name': 'SolarSupportManagementAgent',\n",
    "        'relay_conversation_history': 'TO_COLLABORATOR'\n",
    "    },\n",
    "    {\n",
    "        'sub_agent_alias_arn': peak_agent_alias_arn,\n",
    "        'sub_agent_instruction': \"\"\"Direct peak load management and energy optimization tasks to the Peak Load Manager Agent, leveraging its analytical capabilities.\"\"\",\n",
    "        'sub_agent_association_name': 'PeakLoadOptimizationAgent',\n",
    "        'relay_conversation_history': 'TO_COLLABORATOR'\n",
    "    }\n",
    "]"
   ]
  },
  {
   "cell_type": "markdown",
   "id": "1b95cde7",
   "metadata": {
    "pycharm": {
     "name": "#%% md\n"
    }
   },
   "source": [
    "Check if parameters are correclty formated"
   ]
  },
  {
   "cell_type": "code",
   "execution_count": null,
   "id": "1f384ec7",
   "metadata": {
    "pycharm": {
     "name": "#%%\n"
    }
   },
   "outputs": [],
   "source": [
    "sub_agents_list"
   ]
  },
  {
   "cell_type": "markdown",
   "id": "e548cace",
   "metadata": {
    "pycharm": {
     "name": "#%% md\n"
    }
   },
   "source": [
    "Associate all sub-agents with this one (main one)."
   ]
  },
  {
   "cell_type": "code",
   "execution_count": null,
   "id": "cf73a655",
   "metadata": {
    "pycharm": {
     "name": "#%%\n"
    }
   },
   "outputs": [],
   "source": [
    "energy_agent_alias_id, energy_agent_alias_arn = agents.associate_sub_agents(\n",
    "    energy_agent_id, sub_agents_list\n",
    ")"
   ]
  },
  {
   "cell_type": "markdown",
   "id": "b0537737",
   "metadata": {
    "pycharm": {
     "name": "#%% md\n"
    }
   },
   "source": [
    "Check response return, to see all returned parameteres:"
   ]
  },
  {
   "cell_type": "code",
   "execution_count": null,
   "id": "b65c0767",
   "metadata": {
    "pycharm": {
     "name": "#%%\n"
    }
   },
   "outputs": [],
   "source": [
    "energy_agent_alias_id, energy_agent_alias_arn"
   ]
  },
  {
   "cell_type": "code",
   "execution_count": null,
   "id": "6b37f655-b174-4dab-aeac-0da8717cb15b",
   "metadata": {
    "pycharm": {
     "name": "#%%\n"
    }
   },
   "outputs": [],
   "source": [
    "%store energy_agent_alias_id\n",
    "%store energy_agent_alias_arn"
   ]
  },
  {
   "cell_type": "markdown",
   "id": "29db93eb-9a51-48d2-a6ae-a31b7b5ddde1",
   "metadata": {
    "pycharm": {
     "name": "#%% md\n"
    }
   },
   "source": [
    "## Next Steps\n",
    "Congratulations! We've now created a supervisor agent. Next let's invoke our agent"
   ]
  }
 ],
 "metadata": {
  "kernelspec": {
   "display_name": "Python 3 (ipykernel)",
   "language": "python",
   "name": "python3"
  },
  "language_info": {
   "codemirror_mode": {
    "name": "ipython",
    "version": 3
   },
   "file_extension": ".py",
   "mimetype": "text/x-python",
   "name": "python",
   "nbconvert_exporter": "python",
   "pygments_lexer": "ipython3",
   "version": "3.11.11"
  }
 },
 "nbformat": 4,
 "nbformat_minor": 5
}
